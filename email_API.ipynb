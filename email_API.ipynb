{
 "cells": [
  {
   "cell_type": "code",
   "execution_count": 12,
   "id": "94ae2661-0dc0-4ad2-b4e8-4914425d0514",
   "metadata": {},
   "outputs": [
    {
     "name": "stdout",
     "output_type": "stream",
     "text": [
      "202\n",
      "b''\n",
      "Server: nginx\n",
      "Date: Fri, 01 Nov 2024 02:52:14 GMT\n",
      "Content-Length: 0\n",
      "Connection: close\n",
      "X-Message-Id: exIrvbH4SYGkWdWCSZfWUw\n",
      "Access-Control-Allow-Origin: https://sendgrid.api-docs.io\n",
      "Access-Control-Allow-Methods: POST\n",
      "Access-Control-Allow-Headers: Authorization, Content-Type, On-behalf-of, x-sg-elas-acl\n",
      "Access-Control-Max-Age: 600\n",
      "X-No-CORS-Reason: https://sendgrid.com/docs/Classroom/Basics/API/cors.html\n",
      "Strict-Transport-Security: max-age=600; includeSubDomains\n",
      "\n",
      "\n"
     ]
    }
   ],
   "source": [
    "# using SendGrid's Python Library\n",
    "# https://github.com/sendgrid/sendgrid-python\n",
    "import os\n",
    "from sendgrid import SendGridAPIClient\n",
    "from sendgrid.helpers.mail import Mail\n",
    "from datetime import datetime\n",
    "import boto3\n",
    "\n",
    "# Get today's date in human-readable format\n",
    "today_date = datetime.now().strftime(\"%B %d, %Y\")\n",
    "\n",
    "# Initialize boto3 client for S3\n",
    "s3_client = boto3.client(\n",
    "    's3', \n",
    "    aws_access_key_id='', #<REDACTED>\n",
    "    aws_secret_access_key='' #<REDACTED>\n",
    ")\n",
    "\n",
    "# Replace with your actual bucket name\n",
    "bucket_name = 'mys3repobucket'\n",
    "text_object_name = 'weather_report/weather_report_text.txt'\n",
    "\n",
    "response = s3_client.get_object(Bucket=bucket_name, Key=text_object_name)\n",
    "text_content = response['Body'].read().decode('utf-8')\n",
    "\n",
    "\n",
    "image1_url = 'https://mys3repobucket.s3.us-east-2.amazonaws.com/weather_report/plot1.png'\n",
    "image2_url = 'https://mys3repobucket.s3.us-east-2.amazonaws.com/weather_report/plot2.png'\n",
    "\n",
    "\n",
    "\n",
    "\n",
    "html_content = f'''\n",
    "<html>\n",
    "<body>\n",
    "    <h1>Today's Weather</h1>\n",
    "    <pre>{text_content}</pre>\n",
    "    <hr>  <!-- This creates a horizontal line -->\n",
    "    <h1>Weather forecast for the next few days!</h1>\n",
    "    <p>The following plot shows the temperature (actual/feels like) fluctuations over the next few days. The humidity level is also overlaid in blue over the same period.</p>\n",
    "    <img src=\"{image1_url}\" alt=\"Plot\" />\n",
    "    <p>The following plot shows the projected precipitation (mm), in shades of blue (the darker, the more likely to rain), with the cloud coverage in gray.</p>\n",
    "    <img src=\"{image2_url}\" alt=\"Plot\" />\n",
    "</body>\n",
    "</html>\n",
    "'''\n",
    "\n",
    "\n",
    "\n",
    "\n",
    "message = Mail(\n",
    "    from_email='myusualemailaddress@gmail.com',\n",
    "    to_emails='maziar.izadi@vacasa.com',\n",
    "    subject=f'Open Weather Automated Email for {today_date}!',\n",
    "    html_content=html_content\n",
    ")\n",
    "\n",
    "try:\n",
    "    sg = SendGridAPIClient(os.environ.get('SENDGRID_API_KEY'))\n",
    "    response = sg.send(message)\n",
    "    print(response.status_code)\n",
    "    print(response.body)\n",
    "    print(response.headers)\n",
    "except Exception as e:\n",
    "    print(e)\n"
   ]
  },
  {
   "cell_type": "code",
   "execution_count": null,
   "id": "48a21481-d18b-43b2-b11e-117976d9e68a",
   "metadata": {},
   "outputs": [],
   "source": []
  }
 ],
 "metadata": {
  "kernelspec": {
   "display_name": "Python 3 (ipykernel)",
   "language": "python",
   "name": "python3"
  },
  "language_info": {
   "codemirror_mode": {
    "name": "ipython",
    "version": 3
   },
   "file_extension": ".py",
   "mimetype": "text/x-python",
   "name": "python",
   "nbconvert_exporter": "python",
   "pygments_lexer": "ipython3",
   "version": "3.13.3"
  }
 },
 "nbformat": 4,
 "nbformat_minor": 5
}
